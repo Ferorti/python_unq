{
 "cells": [
  {
   "cell_type": "markdown",
   "metadata": {
    "id": "rVS1jZk8HTYC"
   },
   "source": [
    "**Hands on: Python, scipy, numpy, matplotlib**\n",
    "\n",
    "\n",
    "Utilizando solo python resolver los siguientes problemas (sin usar numpy). El ejemplo a continuación contiene la solución al primer ejercicio. Puede utilizarlo para verificar su solución o como ejemplo para resolver los demás. Los problemas fueron extraídos de https://projecteuler.net/archives\n",
    "\n",
    "**1)** Si hacemos una lista de todos los números naturales debajo de 10 que sean múltiplos de 3 o 5 obtendríamos 3, 5, 6 y 9. La suma de los múltiplos es 23. Encuentre la suma de todos los múltiplos de 3 o 5 debajo de 1000 (o sea, 3+5+6+9+10+12+15+18+...)\n",
    "\n",
    "**2)** Cada término en la serie de Fibonacci es generado a partir de la suma de los dos términos previos, empezando de 1 y 2, los diez primeros términos serán: 1, 2, 3, 5, 8, 13, 21, 34, 55, 89, … Considerando los términos de la serie de Fibonacci que son impares, y por debajo de un millón encuentre la suma de dichos términos.\n",
    "\n",
    "**3)** Los factores primos en 13195 son 5, 7, 13 y 29 ¿ Cuál es el factor primo más grande en el número 600851475143 ?\n",
    "\n"
   ]
  },
  {
   "cell_type": "code",
   "execution_count": 158,
   "metadata": {},
   "outputs": [],
   "source": [
    "def fib(n):\n",
    "    # caso base\n",
    "    a = 0\n",
    "    b = 1\n",
    "    \n",
    "    for i in range(n):\n",
    "        c = a + b\n",
    "        a = b\n",
    "        b = c\n",
    "        \n",
    "    return  a"
   ]
  },
  {
   "cell_type": "code",
   "execution_count": 159,
   "metadata": {},
   "outputs": [
    {
     "name": "stdout",
     "output_type": "stream",
     "text": [
      "0 0\n",
      "1 1\n",
      "2 1\n",
      "3 2\n",
      "4 3\n",
      "5 5\n",
      "6 8\n",
      "7 13\n",
      "8 21\n",
      "9 34\n",
      "10 55\n",
      "11 89\n",
      "12 144\n",
      "13 233\n",
      "14 377\n",
      "15 610\n",
      "16 987\n",
      "17 1597\n",
      "18 2584\n",
      "19 4181\n"
     ]
    }
   ],
   "source": [
    "for i in range(20):\n",
    "    print(i, fib(i))"
   ]
  },
  {
   "cell_type": "code",
   "execution_count": 160,
   "metadata": {},
   "outputs": [
    {
     "data": {
      "text/plain": [
       "3524577"
      ]
     },
     "execution_count": 160,
     "metadata": {},
     "output_type": "execute_result"
    }
   ],
   "source": [
    "\n",
    "def fib_sum_imp(n = 0, total= 0, max_val = 1000000):\n",
    "    \"Funcion que calcula la suma de los numeros primos de fibonacci menores a 1000000\"\n",
    "    res = fib(n)\n",
    "    \n",
    "    total = total + res\n",
    "\n",
    "    if res > max_val:\n",
    "        return total\n",
    "    else:\n",
    "        return fib_sum_imp(n + 1, total, max_val = max_val)\n",
    "    \n",
    "    return suma\n",
    "\n",
    "fib_sum_imp()"
   ]
  },
  {
   "cell_type": "code",
   "execution_count": 161,
   "metadata": {},
   "outputs": [],
   "source": [
    "def es_primo(n):\n",
    "    \"\"\"Funcion que determina si un numero es primo\"\"\"\n",
    "    if n <= 0:\n",
    "        raise ValueError(\"n must be positive\")\n",
    "        \n",
    "    elif n == 1:\n",
    "        return True\n",
    "    \n",
    "    # Comprobar si es divisible por 2 o 3 para ahorrar tiempo\n",
    "    elif n != 2 and n % 2 == 0:\n",
    "        return False\n",
    "    elif n != 3 and  n % 3 == 0:\n",
    "        return False\n",
    "\n",
    "    else:\n",
    "\n",
    "        n_divs = 1 # cantidad de divisores, 1 siempre es divisor\n",
    "        i = 2\n",
    "        \n",
    "        while i < n:\n",
    "            if n % i == 0: # Si el resto es 0, i es divisor de n.\n",
    "                n_divs += 1\n",
    "            i += 1\n",
    "            \n",
    "        if n_divs == 1 and n > 1:\n",
    "            return True\n",
    "        \n",
    "        else:\n",
    "            return False"
   ]
  },
  {
   "cell_type": "code",
   "execution_count": 162,
   "metadata": {},
   "outputs": [
    {
     "name": "stdout",
     "output_type": "stream",
     "text": [
      "1 True\n",
      "2 True\n",
      "3 True\n",
      "4 False\n",
      "5 True\n",
      "6 False\n",
      "7 True\n",
      "8 False\n",
      "9 False\n",
      "10 False\n",
      "11 True\n",
      "12 False\n",
      "13 True\n",
      "14 False\n",
      "15 False\n",
      "16 False\n",
      "17 True\n",
      "18 False\n",
      "19 True\n",
      "20 False\n",
      "21 False\n",
      "22 False\n",
      "23 True\n",
      "24 False\n",
      "25 False\n"
     ]
    }
   ],
   "source": [
    "for i in range(1,26):\n",
    "    print(i, es_primo(i))"
   ]
  },
  {
   "cell_type": "code",
   "execution_count": 163,
   "metadata": {},
   "outputs": [],
   "source": [
    "def mayor_primo(n):\n",
    "    \"\"\"Calcula el mayor factor primo de un numero. Es bastante lento para numeros grandes :(\"\"\"\n",
    "    divisor = n -1 \n",
    "    while n > 0:\n",
    "        # Se fija decrecientemente que numeros son divisores del numero de entrada\n",
    "        # Si lo es, se fija si es primo, y devuelve ese numero\n",
    "        # Si no lo es, prueba el numero anterior, y asi...\n",
    "        if n % divisor == 0 and es_primo(divisor): \n",
    "            return divisor\n",
    "        else:\n",
    "            divisor = divisor - 1\n",
    "    return None"
   ]
  },
  {
   "cell_type": "code",
   "execution_count": 164,
   "metadata": {},
   "outputs": [
    {
     "data": {
      "text/plain": [
       "20719"
      ]
     },
     "execution_count": 164,
     "metadata": {},
     "output_type": "execute_result"
    }
   ],
   "source": [
    "mayor_primo(600851)"
   ]
  },
  {
   "cell_type": "markdown",
   "metadata": {
    "id": "u7igirpVIb3T"
   },
   "source": [
    "A partir de aquí tenga en cuenta que puede utilizar python con todas las librerías disponibles de [Scipy](https://www.scipy.org/),[ Numpy](https://numpy.org/),[ Matplotlib](https://matplotlib.org/), visite las páginas de referencia e intente resolver los problemas como armaría un script para su trabajo diario. Tiene disponibles como referencia los ejemplos vistos en la parte teórica.\n",
    "\n",
    "**4)** Dado el siguiente set de datos, obtenga un gráfico tipo scatter plot para X en función de Y.\n",
    "\n",
    "| X       Y    |\n",
    "|--------------|\n",
    "| 7.5    28.66 |\n",
    "| 4.48   20.37 |\n",
    "| 8.60   22.33 |\n",
    "| 7.73   26.35 |\n",
    "| 5.28   22.29 |\n",
    "| 4.25   21.74 |\n",
    "| 6.99   23.11 |\n",
    "| 6.31   23.13 |\n",
    "| 9.15   24.68 |\n",
    "| 5.06   21.89 |\n",
    "\n",
    "**a)** Intente realizar un ajuste lineal o de algún polinomio utilizando este set de datos.\n",
    "\n",
    "**b)** Intente colocar label para los ejes y los datos\n",
    "\n",
    "**c)** Graficar el siguiente polinomio, su derivada y puntos extremos: f(x)=x³+x²-4x+4\n",
    "\n",
    "**d)**Colocar titulo a los ejes y agregarle una grilla en ambos. Definir el rango de la función entre -10 y 10.\n",
    "\n",
    "**e)** Colocar titulo y colores distintos para la función y la derivada.\n",
    "\n",
    "**f)** Guardar los resultados de evaluar la función en el rango del punto a cada 0.1 unidades en un archivo de texto."
   ]
  },
  {
   "cell_type": "code",
   "execution_count": 23,
   "metadata": {
    "id": "3PIEF-mbH_e_"
   },
   "outputs": [],
   "source": [
    "import matplotlib.pyplot as plt"
   ]
  },
  {
   "cell_type": "code",
   "execution_count": 149,
   "metadata": {},
   "outputs": [],
   "source": [
    "xs = [7.5,  4.48,  8.60,  7.73, 5.28, 4.25, 6.99, 6.31, 9.15, 5.06]\n",
    "ys = [28.66, 20.37, 22.33, 26.35, 22.29, 21.74,23.11, 23.13, 24.68, 21.89 ]"
   ]
  },
  {
   "cell_type": "code",
   "execution_count": 150,
   "metadata": {},
   "outputs": [
    {
     "data": {
      "text/plain": [
       "<matplotlib.collections.PathCollection at 0x7fced2a381f0>"
      ]
     },
     "execution_count": 150,
     "metadata": {},
     "output_type": "execute_result"
    },
    {
     "data": {
      "image/png": "[encoded data removed]",
      "text/plain": [
       "<Figure size 432x288 with 1 Axes>"
      ]
     },
     "metadata": {
      "needs_background": "light"
     },
     "output_type": "display_data"
    }
   ],
   "source": [
    "plt.scatter(x=xs, y=ys)"
   ]
  },
  {
   "cell_type": "code",
   "execution_count": 151,
   "metadata": {},
   "outputs": [
    {
     "data": {
      "image/png": "[encoded data removed]",
      "text/plain": [
       "<Figure size 432x288 with 1 Axes>"
      ]
     },
     "metadata": {
      "needs_background": "light"
     },
     "output_type": "display_data"
    }
   ],
   "source": [
    "plt.scatter(x=xs, y=ys)\n",
    "plt.title('Grafico',fontsize = 16)\n",
    "plt.ylabel(\"Var Y (y)\", fontsize = 14);\n",
    "plt.xlabel(\"Var X (x)\", fontsize = 14);\n"
   ]
  },
  {
   "cell_type": "code",
   "execution_count": 50,
   "metadata": {},
   "outputs": [],
   "source": [
    "import numpy as np\n",
    "m,b = np.polyfit(xs, ys, 1) # Obtener parametros de un fiteo a una funcion lineal"
   ]
  },
  {
   "cell_type": "code",
   "execution_count": 156,
   "metadata": {},
   "outputs": [
    {
     "data": {
      "text/plain": [
       "<matplotlib.legend.Legend at 0x7fced2846e80>"
      ]
     },
     "execution_count": 156,
     "metadata": {},
     "output_type": "execute_result"
    },
    {
     "data": {
      "image/png": "[encoded data removed]",
      "text/plain": [
       "<Figure size 432x288 with 1 Axes>"
      ]
     },
     "metadata": {
      "needs_background": "light"
     },
     "output_type": "display_data"
    }
   ],
   "source": [
    "# Para el fiteo lineal utilizamos el metodo polyfit de numpy\n",
    "coef = np.polyfit(xs,ys,1)\n",
    "poly1d_fn = np.poly1d(coef)\n",
    "plt.plot(xs, ys, 'yo', xs, poly1d_fn(xs), '--k');\n",
    "\n",
    "plt.title('Grafico',fontsize = 16);\n",
    "plt.ylabel(\"Var Y (y)\", fontsize = 14);\n",
    "plt.xlabel(\"Var X (x)\", fontsize = 14);\n",
    "\n",
    "plt.legend([\"F(X)\",'Linear Fit'])"
   ]
  },
  {
   "cell_type": "code",
   "execution_count": 148,
   "metadata": {},
   "outputs": [
    {
     "data": {
      "text/plain": [
       "<matplotlib.legend.Legend at 0x7fced2a56850>"
      ]
     },
     "execution_count": 148,
     "metadata": {},
     "output_type": "execute_result"
    },
    {
     "data": {
      "image/png": "[encoded data removed]",
      "text/plain": [
       "<Figure size 432x288 with 1 Axes>"
      ]
     },
     "metadata": {
      "needs_background": "light"
     },
     "output_type": "display_data"
    }
   ],
   "source": [
    "# Utilizamos el método poly1d de numpy para generar la funcion\n",
    "p = np.poly1d([1, 1, -4, 4])\n",
    "\n",
    "# la funcion derivada\n",
    "q = p.deriv()\n",
    "\n",
    "\n",
    "xs = range(-10,10)\n",
    "ys = [p(i) for i in range(-10,10)] # Evalua la funcion en el rango de las x\n",
    "dxys = [q(i) for i in range(-10,10)] # Evalua la derivada en el rango de las x\n",
    "\n",
    "plt.scatter(xs, ys, label='f(x)')\n",
    "plt.scatter(xs[0], ys[0], color='red')\n",
    "plt.scatter(xs[-1], ys[-1], color='red')\n",
    "plt.plot(xs,  dxys, label=\"f'(x)\", color='green')\n",
    "plt.annotate('Y-Min',xy=(xs[0]+0.5, ys[0]))\n",
    "plt.annotate('Y-Max',xy=(xs[-1]-2.2, ys[-1] - 20))\n",
    "\n",
    "plt.annotate(\"F'(X)\",xy=(xs[2], dxys[2]+ 20), color='green')\n",
    "plt.annotate(\"F(X)'\",xy=(xs[2]+ 1, ys[2]), color='blue')\n",
    "\n",
    "plt.ylabel('F(x)');\n",
    "plt.xlabel('x')\n",
    "plt.legend()"
   ]
  },
  {
   "cell_type": "code",
   "execution_count": 168,
   "metadata": {},
   "outputs": [],
   "source": [
    "with open('output.txt','w') as f:\n",
    "    print('x', 'y', sep='\\t', file=f)\n",
    "    for x in np.arange(-10,10,0.1):\n",
    "        print(round(x,2), round(p(x),4), sep='\\t', file=f)"
   ]
  },
  {
   "cell_type": "code",
   "execution_count": null,
   "metadata": {},
   "outputs": [],
   "source": []
  }
 ],
 "metadata": {
  "colab": {
   "name": "Copy of hands_on_clase_01.ipynb",
   "provenance": []
  },
  "kernelspec": {
   "display_name": "Python 3",
   "language": "python",
   "name": "python3"
  },
  "language_info": {
   "codemirror_mode": {
    "name": "ipython",
    "version": 3
   },
   "file_extension": ".py",
   "mimetype": "text/x-python",
   "name": "python",
   "nbconvert_exporter": "python",
   "pygments_lexer": "ipython3",
   "version": "3.8.8"
  }
 },
 "nbformat": 4,
 "nbformat_minor": 4
}
